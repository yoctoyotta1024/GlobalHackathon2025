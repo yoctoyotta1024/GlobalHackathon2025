{
 "cells": [
  {
   "cell_type": "code",
   "execution_count": 1,
   "id": "b09e42b4-975a-45de-9a5b-cfbd28869bd9",
   "metadata": {},
   "outputs": [],
   "source": [
    "# only runs if you cloned eofetch repo! \n",
    "from pystac_client import Client\n",
    "import eofetch"
   ]
  },
  {
   "cell_type": "markdown",
   "id": "1bd0febb-28fa-46c7-a482-8dd2633445a0",
   "metadata": {},
   "source": [
    "#### Navigate the catalog and filter"
   ]
  },
  {
   "cell_type": "code",
   "execution_count": 2,
   "id": "8bd1e4d3-d923-40a8-a50d-fd8b2c9ad47a",
   "metadata": {},
   "outputs": [],
   "source": [
    "from pystac_client import Client\n",
    "catalog_url = 'https://eocat.esa.int/eo-catalogue'\n",
    "catalog = Client.open(catalog_url)"
   ]
  },
  {
   "cell_type": "code",
   "execution_count": 3,
   "id": "479e62a9-94f6-40d6-abe1-d9a45261a4fd",
   "metadata": {},
   "outputs": [],
   "source": [
    "search = catalog.search(\n",
    "    #collections = ['EarthCAREL1Validated'], # uncommment for searching L1 data\n",
    "    collections = ['EarthCAREL2Validated'], # uncomment for searching L2 data \n",
    "    filter=\"productType = 'ATL_ICE_2A' \", # Filter by product type, there are more options for filtering here too! \n",
    "    datetime=['2025-04-01T00:00:00.000Z', '2025-04-30T00:00:00.000Z'], # filter by temporal extent \n",
    "    \n",
    "    #bbox = [-8, 42, 5, 47] or [9, 43, 23, 47], # bounding box is defined by the bottom left corner (longmin latmin) and the top right corner coordinates (longmax latmax) \n",
    "\n",
    "    max_items=10  # Adjust as needed, if you don't add max_items over 100000s of products though this could take really long \n",
    ")\n",
    "\n",
    "items = list(search.items())\n",
    "results = dict() # or just {} \n",
    "id_lst = []\n"
   ]
  },
  {
   "cell_type": "code",
   "execution_count": 4,
   "id": "42c97c55-4621-427f-bc44-9414bb18feee",
   "metadata": {},
   "outputs": [],
   "source": [
    "for item in items:\n",
    "    id_lst.append(item.id)\n"
   ]
  },
  {
   "cell_type": "code",
   "execution_count": 5,
   "id": "f3c066ee-1a8f-4301-9bf8-a261f618901b",
   "metadata": {},
   "outputs": [
    {
     "data": {
      "text/plain": [
       "['ECA_EXAE_ATL_ICE_2A_20250406T134100Z_20250406T153708Z_04864D',\n",
       " 'ECA_EXAE_ATL_ICE_2A_20250406T130634Z_20250406T153605Z_04864A',\n",
       " 'ECA_EXAE_ATL_ICE_2A_20250406T125445Z_20250406T153512Z_04863H',\n",
       " 'ECA_EXAE_ATL_ICE_2A_20250406T143906Z_20250406T153628Z_04865A',\n",
       " 'ECA_EXAE_ATL_ICE_2A_20250406T154843Z_20250406T165901Z_04865G',\n",
       " 'ECA_EXAE_ATL_ICE_2A_20250406T153654Z_20250406T170109Z_04865F',\n",
       " 'ECA_EXAE_ATL_ICE_2A_20250406T162314Z_20250406T170216Z_04866B',\n",
       " 'ECA_EXAE_ATL_ICE_2A_20250406T203727Z_20250406T213419Z_04868H',\n",
       " 'ECA_EXAE_ATL_ICE_2A_20250406T180733Z_20250406T213516Z_04867C',\n",
       " 'ECA_EXAE_ATL_ICE_2A_20250406T172115Z_20250406T213522Z_04866G']"
      ]
     },
     "execution_count": 5,
     "metadata": {},
     "output_type": "execute_result"
    }
   ],
   "source": [
    "id_lst"
   ]
  },
  {
   "cell_type": "markdown",
   "id": "20c16824-1527-489e-9f37-558b35b176a9",
   "metadata": {},
   "source": [
    "Pass list to eofetch "
   ]
  },
  {
   "cell_type": "code",
   "execution_count": 6,
   "id": "1ba0aece",
   "metadata": {},
   "outputs": [],
   "source": [
    "import os \n",
    "os.environ[\"OADS_USERNAME\"] = \"username\" #add here your username and password!\n",
    "os.environ[\"OADS_PASSWORD\"] = \"password\""
   ]
  },
  {
   "cell_type": "code",
   "execution_count": 7,
   "id": "50f624e1",
   "metadata": {},
   "outputs": [],
   "source": [
    "for id in id_lst:\n",
    "    eofetch.download(id + \".h5\", target_directory=\"/work/bb1153/b309296/Data\")"
   ]
  }
 ],
 "metadata": {
  "kernelspec": {
   "display_name": "satellite",
   "language": "python",
   "name": "python3"
  },
  "language_info": {
   "codemirror_mode": {
    "name": "ipython",
    "version": 3
   },
   "file_extension": ".py",
   "mimetype": "text/x-python",
   "name": "python",
   "nbconvert_exporter": "python",
   "pygments_lexer": "ipython3",
   "version": "3.9.21"
  }
 },
 "nbformat": 4,
 "nbformat_minor": 5
}
